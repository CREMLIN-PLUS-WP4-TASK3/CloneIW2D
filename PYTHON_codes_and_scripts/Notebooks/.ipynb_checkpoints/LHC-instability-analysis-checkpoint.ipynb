{
 "cells": [
  {
   "cell_type": "code",
   "execution_count": null,
   "metadata": {
    "collapsed": false
   },
   "outputs": [],
   "source": [
    "import  TimberManager as tm\n",
    "from os import system\n",
    "from mylist import variable_list as vl\n",
    "from optparse import OptionParser\n",
    "\n",
    "filln='4723'\n",
    "t_start='RAMP'\n",
    "t_end='BEAMDUMP'\n",
    "vartype='BSRT'\n",
    "print 'fill:'+filln+' from '+t_start+' to '+t_end\n",
    "\n",
    "MDDir='/afs/cern.ch/user/n/nbiancac/scratch0/Python-scripts/LHCMeasurementTools/';\n",
    "\n",
    "comment='';\n",
    "\n"
   ]
  },
  {
   "cell_type": "code",
   "execution_count": null,
   "metadata": {
    "collapsed": false
   },
   "outputs": [],
   "source": [
    "%cd /afs/cern.ch/user/n/nbiancac/scratch0/Python-scripts/LHCMeasurementTools\n",
    "if t_start[0].isdigit():\n",
    "\tuser_t_start=t_start;\n",
    "\tuser_t_stop=t_end;\n",
    "\n",
    "else:\n",
    "\tcommand='java -jar accsoft-cals-extractor-client-nodep.jar -C mdb_LOCAL.conf -M FD -fn '+filln+' -vs \"HX:FILLN\"  -N ./fill_timings.csv';\n",
    "\tsystem(command)\n",
    "\tprint command\n",
    "\tf=open('./fill_timings.csv','r');\n",
    "\tfor line in f.readlines():\n",
    "\t\tprint line\n",
    "\t\tif ','+t_start+',' in line:\n",
    "\t\t\tuser_t_start=line.split(',')[2];\n",
    "\t\t\tprint '-> '+line\n",
    "\n",
    "\t\telif ','+t_end+',' in line:\n",
    "\t\t\tuser_t_stop=line.split(',')[2];\n",
    "\t\t\tprint '-> '+line\n",
    "\tf.close();\n",
    "\n",
    "\t#system('mv fill_timings.csv '+MDDir+'/fill_timings.csv')\n"
   ]
  },
  {
   "cell_type": "code",
   "execution_count": 5,
   "metadata": {
    "collapsed": false
   },
   "outputs": [
    {
     "name": "stdout",
     "output_type": "stream",
     "text": [
      "a\n",
      "a\n"
     ]
    }
   ],
   "source": [
    "from mylist import BSRT\n",
    "print BSRT.name\n",
    "\n",
    "BSRT.showname()"
   ]
  },
  {
   "cell_type": "code",
   "execution_count": null,
   "metadata": {
    "collapsed": false
   },
   "outputs": [],
   "source": [
    "import mylist as ml\n",
    "# make directories\n",
    "mainDir=MDDir+filln;\n",
    "DataDir=MDDir+filln+'/Data/';\n",
    "CollDir=DataDir+'/Collimators/';\n",
    "ResultDir=MDDir+filln+'/Result/';\n",
    "system('mkdir -p '+mainDir+' '+DataDir+' '+ResultDir);\n",
    "\n",
    "\n",
    "variable_list=ml.variable_list('BSRT');\n",
    "\n",
    "\n",
    "for variable in variable_list:\n",
    "\t\tnew_variable=variable.replace(':','_');\n",
    "\t\tdatabase='MDB';\n",
    "\t\ttm.dbquery([variable], user_t_start, user_t_stop, new_variable+'.csv',database);\n",
    "\t\tlines = open(new_variable+'.csv').readlines()\n",
    "\t\topen(new_variable+comment+'.dat', 'w').writelines(lines[3:-1])\n",
    "\t\tif 'LVDT' in new_variable:\n",
    "\t\t\tsystem('mv '+new_variable+comment+'.dat '+CollDir)\n",
    "\t\telse:\n",
    "\t\t\tsystem('mv '+new_variable+comment+'.dat '+DataDir)\n",
    "\n",
    "\t\tsystem('rm ./*csv')\n",
    "\n"
   ]
  },
  {
   "cell_type": "code",
   "execution_count": null,
   "metadata": {
    "collapsed": false
   },
   "outputs": [],
   "source": [
    "%pylab notebook\n",
    "%cd $MDDir/$filln/Data\n",
    "!ls\n",
    "letto=np.genfromtxt('LHC.BSRT.5L4.B2_FIT_SIGMA_V.dat',delimiter=',',dtype=None,missing_values=0)\n",
    "print letto"
   ]
  }
 ],
 "metadata": {
  "kernelspec": {
   "display_name": "Python 2",
   "language": "python",
   "name": "python2"
  },
  "language_info": {
   "codemirror_mode": {
    "name": "ipython",
    "version": 2
   },
   "file_extension": ".py",
   "mimetype": "text/x-python",
   "name": "python",
   "nbconvert_exporter": "python",
   "pygments_lexer": "ipython2",
   "version": "2.7.11"
  }
 },
 "nbformat": 4,
 "nbformat_minor": 0
}
